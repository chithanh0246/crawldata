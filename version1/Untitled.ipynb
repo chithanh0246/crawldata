{
 "cells": [
  {
   "cell_type": "code",
   "execution_count": 1,
   "id": "7a7e7262-fa7b-4e72-9dd7-0187f6de7213",
   "metadata": {},
   "outputs": [],
   "source": [
    "import pandas as pd"
   ]
  },
  {
   "cell_type": "code",
   "execution_count": 17,
   "id": "a7d4ac89-0027-47fc-83b5-77a3a1ebf29b",
   "metadata": {},
   "outputs": [],
   "source": [
    "df = pd.read_csv('bdsnghiduong2.csv')"
   ]
  },
  {
   "cell_type": "code",
   "execution_count": 57,
   "id": "1c576cba-5c94-4457-be71-5171a50a1a6c",
   "metadata": {},
   "outputs": [],
   "source": [
    "df2=df[df['post content'].str.contains(\"tuyển|tuyển dụng|ứng tuyển\",case=False) | df['namepage'].str.contains(\"tuyển dụng\",case=False)]['post content'].tolist()"
   ]
  },
  {
   "cell_type": "code",
   "execution_count": 59,
   "id": "2673206a",
   "metadata": {},
   "outputs": [
    {
     "data": {
      "text/html": [
       "<div>\n",
       "<style scoped>\n",
       "    .dataframe tbody tr th:only-of-type {\n",
       "        vertical-align: middle;\n",
       "    }\n",
       "\n",
       "    .dataframe tbody tr th {\n",
       "        vertical-align: top;\n",
       "    }\n",
       "\n",
       "    .dataframe thead th {\n",
       "        text-align: right;\n",
       "    }\n",
       "</style>\n",
       "<table border=\"1\" class=\"dataframe\">\n",
       "  <thead>\n",
       "    <tr style=\"text-align: right;\">\n",
       "      <th></th>\n",
       "      <th>namepage</th>\n",
       "      <th>start date</th>\n",
       "      <th>link page</th>\n",
       "      <th>link ads</th>\n",
       "      <th>post content</th>\n",
       "    </tr>\n",
       "  </thead>\n",
       "  <tbody>\n",
       "    <tr>\n",
       "      <th>0</th>\n",
       "      <td>Sunshine Green Iconic</td>\n",
       "      <td>Started running on 6 Sep 2022</td>\n",
       "      <td>https://facebook.com/chungcucaocapgreeniconicl...</td>\n",
       "      <td>https://www.facebook.com/ads/library/?id=60022...</td>\n",
       "      <td>🔥⚡️TRONG TAY BẠN CÓ GÌ KHI SỞ HỮU SUNSHINE GRE...</td>\n",
       "    </tr>\n",
       "    <tr>\n",
       "      <th>1</th>\n",
       "      <td>Đất nền đầu tư.Bảo Lộc. Giá rẻ</td>\n",
       "      <td>Started running on 6 Sep 2022</td>\n",
       "      <td>https://facebook.com/100083616433934</td>\n",
       "      <td>https://www.facebook.com/ads/library/?id=49557...</td>\n",
       "      <td>💯💯 Bán Đất Tặng Nhà #899tr như hình, 𝑽𝒆𝒘 𝑺𝒂̆𝒏 ...</td>\n",
       "    </tr>\n",
       "    <tr>\n",
       "      <th>2</th>\n",
       "      <td>Cafe24h - Đầu Tư Bất Động Sản</td>\n",
       "      <td>Started running on 6 Sep 2022</td>\n",
       "      <td>https://www.facebook.com/thitruongbatdongsan123/</td>\n",
       "      <td>https://www.facebook.com/ads/library/?id=37920...</td>\n",
       "      <td>💥 Căn hộ 3 MẶT VIEW BIỂN trung tâm TP. Quy Nhơ...</td>\n",
       "    </tr>\n",
       "    <tr>\n",
       "      <th>3</th>\n",
       "      <td>Biệt Thự Nghỉ Dưỡng Biển Top 10 Việt Nam</td>\n",
       "      <td>Started running on 6 Sep 2022</td>\n",
       "      <td>https://facebook.com/bietthunghiduongbientop10vn</td>\n",
       "      <td>https://www.facebook.com/ads/library/?id=54651...</td>\n",
       "      <td>🏖Biệt thự View Biển Mũi Né  180m2💲 Giá chỉ...</td>\n",
       "    </tr>\n",
       "    <tr>\n",
       "      <th>4</th>\n",
       "      <td>Đầu tư BĐS HOT giá tốt</td>\n",
       "      <td>Started running on 6 Sep 2022</td>\n",
       "      <td>https://www.facebook.com/Đầu-tư-BĐS-HOT-giá-tố...</td>\n",
       "      <td>https://www.facebook.com/ads/library/?id=37232...</td>\n",
       "      <td>Cơ hội X2 X3 với Shophouse VIP nhất biển Sầm S...</td>\n",
       "    </tr>\n",
       "    <tr>\n",
       "      <th>...</th>\n",
       "      <td>...</td>\n",
       "      <td>...</td>\n",
       "      <td>...</td>\n",
       "      <td>...</td>\n",
       "      <td>...</td>\n",
       "    </tr>\n",
       "    <tr>\n",
       "      <th>354</th>\n",
       "      <td>Đất Nền Biệt Thự Biển Quy Nhơn - La Gi</td>\n",
       "      <td>Started running on 27 Jul 2019</td>\n",
       "      <td>https://facebook.com/100057114024748</td>\n",
       "      <td>https://www.facebook.com/ads/library/?id=40545...</td>\n",
       "      <td>🏢🏢KHI MÀ THÀNH PHỐ MỆT QUÁ SỐNG CHỒNG LÊN NHAU...</td>\n",
       "    </tr>\n",
       "    <tr>\n",
       "      <th>355</th>\n",
       "      <td>LAZI LONG BEACH</td>\n",
       "      <td>Started running on 28 Jul 2019</td>\n",
       "      <td>https://www.facebook.com/lazilongbeach/</td>\n",
       "      <td>https://www.facebook.com/ads/library/?id=23600...</td>\n",
       "      <td>🏢🏢KHI MÀ THÀNH PHỐ MỆT QUÁ SỐNG CHỒNG LÊN NHAU...</td>\n",
       "    </tr>\n",
       "    <tr>\n",
       "      <th>356</th>\n",
       "      <td>Đất Nền Biệt Thự Biển Quy Nhơn - La Gi</td>\n",
       "      <td>Started running on 20 Jun 2019</td>\n",
       "      <td>https://facebook.com/100057114024748</td>\n",
       "      <td>https://www.facebook.com/ads/library/?id=10257...</td>\n",
       "      <td>⭐️⭐️TẬN HƯỞNG CUỘC SỐNG ĐẲNG CẤP CHỈ TỪ 590 TR...</td>\n",
       "    </tr>\n",
       "    <tr>\n",
       "      <th>357</th>\n",
       "      <td>Đất Nền Biệt Thự Biển Quy Nhơn - La Gi</td>\n",
       "      <td>Started running on 20 Jun 2019</td>\n",
       "      <td>https://facebook.com/100057114024748</td>\n",
       "      <td>https://www.facebook.com/ads/library/?id=10992...</td>\n",
       "      <td>🎯🎯SỞ HỮU THIÊN ĐƯỜNG NGHỈ DƯỠNG LAZI LONG BEAC...</td>\n",
       "    </tr>\n",
       "    <tr>\n",
       "      <th>358</th>\n",
       "      <td>Đất Nền Biệt Thự Biển Quy Nhơn - La Gi</td>\n",
       "      <td>Started running on 20 Jun 2019</td>\n",
       "      <td>https://facebook.com/100057114024748</td>\n",
       "      <td>https://www.facebook.com/ads/library/?id=22844...</td>\n",
       "      <td>💢 BẠN CÓ TIỀN NHÀN RỖI CHƯA BIẾT ĐẦU TƯ VÀO ĐÂ...</td>\n",
       "    </tr>\n",
       "  </tbody>\n",
       "</table>\n",
       "<p>334 rows × 5 columns</p>\n",
       "</div>"
      ],
      "text/plain": [
       "                                     namepage                      start date  \\\n",
       "0                       Sunshine Green Iconic   Started running on 6 Sep 2022   \n",
       "1       Đất nền đầu tư.Bảo Lộc. Giá rẻ   Started running on 6 Sep 2022   \n",
       "2               Cafe24h - Đầu Tư Bất Động Sản   Started running on 6 Sep 2022   \n",
       "3    Biệt Thự Nghỉ Dưỡng Biển Top 10 Việt Nam   Started running on 6 Sep 2022   \n",
       "4                      Đầu tư BĐS HOT giá tốt   Started running on 6 Sep 2022   \n",
       "..                                        ...                             ...   \n",
       "354    Đất Nền Biệt Thự Biển Quy Nhơn - La Gi  Started running on 27 Jul 2019   \n",
       "355                           LAZI LONG BEACH  Started running on 28 Jul 2019   \n",
       "356    Đất Nền Biệt Thự Biển Quy Nhơn - La Gi  Started running on 20 Jun 2019   \n",
       "357    Đất Nền Biệt Thự Biển Quy Nhơn - La Gi  Started running on 20 Jun 2019   \n",
       "358    Đất Nền Biệt Thự Biển Quy Nhơn - La Gi  Started running on 20 Jun 2019   \n",
       "\n",
       "                                             link page  \\\n",
       "0    https://facebook.com/chungcucaocapgreeniconicl...   \n",
       "1                 https://facebook.com/100083616433934   \n",
       "2     https://www.facebook.com/thitruongbatdongsan123/   \n",
       "3     https://facebook.com/bietthunghiduongbientop10vn   \n",
       "4    https://www.facebook.com/Đầu-tư-BĐS-HOT-giá-tố...   \n",
       "..                                                 ...   \n",
       "354               https://facebook.com/100057114024748   \n",
       "355            https://www.facebook.com/lazilongbeach/   \n",
       "356               https://facebook.com/100057114024748   \n",
       "357               https://facebook.com/100057114024748   \n",
       "358               https://facebook.com/100057114024748   \n",
       "\n",
       "                                              link ads  \\\n",
       "0    https://www.facebook.com/ads/library/?id=60022...   \n",
       "1    https://www.facebook.com/ads/library/?id=49557...   \n",
       "2    https://www.facebook.com/ads/library/?id=37920...   \n",
       "3    https://www.facebook.com/ads/library/?id=54651...   \n",
       "4    https://www.facebook.com/ads/library/?id=37232...   \n",
       "..                                                 ...   \n",
       "354  https://www.facebook.com/ads/library/?id=40545...   \n",
       "355  https://www.facebook.com/ads/library/?id=23600...   \n",
       "356  https://www.facebook.com/ads/library/?id=10257...   \n",
       "357  https://www.facebook.com/ads/library/?id=10992...   \n",
       "358  https://www.facebook.com/ads/library/?id=22844...   \n",
       "\n",
       "                                          post content  \n",
       "0    🔥⚡️TRONG TAY BẠN CÓ GÌ KHI SỞ HỮU SUNSHINE GRE...  \n",
       "1    💯💯 Bán Đất Tặng Nhà #899tr như hình, 𝑽𝒆𝒘 𝑺𝒂̆𝒏 ...  \n",
       "2    💥 Căn hộ 3 MẶT VIEW BIỂN trung tâm TP. Quy Nhơ...  \n",
       "3    🏖Biệt thự View Biển Mũi Né  180m2💲 Giá chỉ...  \n",
       "4    Cơ hội X2 X3 với Shophouse VIP nhất biển Sầm S...  \n",
       "..                                                 ...  \n",
       "354  🏢🏢KHI MÀ THÀNH PHỐ MỆT QUÁ SỐNG CHỒNG LÊN NHAU...  \n",
       "355  🏢🏢KHI MÀ THÀNH PHỐ MỆT QUÁ SỐNG CHỒNG LÊN NHAU...  \n",
       "356  ⭐️⭐️TẬN HƯỞNG CUỘC SỐNG ĐẲNG CẤP CHỈ TỪ 590 TR...  \n",
       "357  🎯🎯SỞ HỮU THIÊN ĐƯỜNG NGHỈ DƯỠNG LAZI LONG BEAC...  \n",
       "358  💢 BẠN CÓ TIỀN NHÀN RỖI CHƯA BIẾT ĐẦU TƯ VÀO ĐÂ...  \n",
       "\n",
       "[334 rows x 5 columns]"
      ]
     },
     "execution_count": 59,
     "metadata": {},
     "output_type": "execute_result"
    }
   ],
   "source": [
    "df[~df['post content'].isin(df2)]"
   ]
  },
  {
   "cell_type": "code",
   "execution_count": 60,
   "id": "d074139e",
   "metadata": {},
   "outputs": [],
   "source": [
    "result = {'a': 'b','b': 'c'}"
   ]
  },
  {
   "cell_type": "code",
   "execution_count": 62,
   "id": "6ec632b3",
   "metadata": {},
   "outputs": [
    {
     "data": {
      "text/plain": [
       "'b'"
      ]
     },
     "execution_count": 62,
     "metadata": {},
     "output_type": "execute_result"
    }
   ],
   "source": [
    "result['a']"
   ]
  }
 ],
 "metadata": {
  "kernelspec": {
   "display_name": "Python 3.8.10 64-bit",
   "language": "python",
   "name": "python3"
  },
  "language_info": {
   "codemirror_mode": {
    "name": "ipython",
    "version": 3
   },
   "file_extension": ".py",
   "mimetype": "text/x-python",
   "name": "python",
   "nbconvert_exporter": "python",
   "pygments_lexer": "ipython3",
   "version": "3.8.10"
  },
  "vscode": {
   "interpreter": {
    "hash": "b9ab610a55a5176458df2dff96f548f03c9f71ac1d536db2e7e5f1815100f41c"
   }
  }
 },
 "nbformat": 4,
 "nbformat_minor": 5
}
